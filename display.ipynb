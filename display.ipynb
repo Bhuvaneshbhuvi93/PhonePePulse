{
 "cells": [
  {
   "cell_type": "code",
   "execution_count": 353,
   "metadata": {},
   "outputs": [],
   "source": [
    "import streamlit as st\n",
    "import mysql.connector\n",
    "import pandas as pd\n",
    "import json\n",
    "import plotly.express as px\n",
    "import requests\n",
    "from streamlit_lottie import st_lottie\n",
    "from streamlit_option_menu import option_menu"
   ]
  },
  {
   "cell_type": "code",
   "execution_count": 354,
   "metadata": {},
   "outputs": [
    {
     "name": "stdout",
     "output_type": "stream",
     "text": [
      "Connection to MySQL database established.\n"
     ]
    }
   ],
   "source": [
    "config = {\n",
    "  'user': 'root',\n",
    "  'password': 'Bh#9900425184',\n",
    "  'host': '127.0.0.1',\n",
    "  'database': 'pulse',\n",
    "  'raise_on_warnings': True\n",
    "}\n",
    "\n",
    "# Connect to the database\n",
    "cnx = mysql.connector.connect(**config)\n",
    "\n",
    "# Check if the connection is successful\n",
    "if cnx.is_connected():\n",
    "  print(\"Connection to MySQL database established.\")\n",
    "else:\n",
    "  print(\"Connection to MySQL database failed.\")"
   ]
  },
  {
   "cell_type": "markdown",
   "metadata": {},
   "source": [
    "# Aggregate"
   ]
  },
  {
   "cell_type": "markdown",
   "metadata": {},
   "source": [
    "### Transaction"
   ]
  },
  {
   "cell_type": "code",
   "execution_count": 355,
   "metadata": {},
   "outputs": [
    {
     "name": "stdout",
     "output_type": "stream",
     "text": [
      "  country                      state  year quarter          transaction_type  \\\n",
      "0   India  andaman-&-nicobar-islands  2018      Q1  Recharge & bill payments   \n",
      "1   India  andaman-&-nicobar-islands  2018      Q1     Peer-to-peer payments   \n",
      "2   India  andaman-&-nicobar-islands  2018      Q1         Merchant payments   \n",
      "3   India  andaman-&-nicobar-islands  2018      Q1        Financial Services   \n",
      "4   India  andaman-&-nicobar-islands  2018      Q1                    Others   \n",
      "\n",
      "   transaction_count  total_amount  \n",
      "0               4200       1845307  \n",
      "1               1871      12138655  \n",
      "2                298        452507  \n",
      "3                 33         10601  \n",
      "4                256        184689  \n"
     ]
    },
    {
     "name": "stderr",
     "output_type": "stream",
     "text": [
      "c:\\Users\\USER\\Anaconda3\\lib\\site-packages\\pandas\\io\\sql.py:762: UserWarning:\n",
      "\n",
      "pandas only support SQLAlchemy connectable(engine/connection) ordatabase string URI or sqlite3 DBAPI2 connectionother DBAPI2 objects are not tested, please consider using SQLAlchemy\n",
      "\n"
     ]
    }
   ],
   "source": [
    "# Create a cursor to execute SQL queries\n",
    "cursor = cnx.cursor()\n",
    "\n",
    "# Define the SQL query to retrieve data from the \"Top_India_2022_District\" table\n",
    "query = \"SELECT * FROM aggregate_transaction\"\n",
    "\n",
    "# Execute the SQL query and store the result in a Pandas dataframe\n",
    "aggregate_transaction = pd.read_sql(query, cnx)\n",
    "\n",
    "# Print the first 5 rows of the dataframe\n",
    "print(aggregate_transaction.head())"
   ]
  },
  {
   "cell_type": "code",
   "execution_count": 356,
   "metadata": {},
   "outputs": [],
   "source": [
    "aggregate_transaction['state'] = aggregate_transaction['state'].replace({'andaman-&-nicobar-islands': 'Andaman & Nicobar','andhra-pradesh':'Andhra Pradesh', 'arunachal-pradesh':'Arunachal Pradesh',\n",
    "       'assam':'Assam', 'bihar':'Bihar', 'chandigarh':'Chandigarh', 'chhattisgarh':'Chhattisgarh',\n",
    "       'dadra-&-nagar-haveli-&-daman-&-diu':'Dadra and Nagar Haveli and Daman and Diu', 'delhi': 'Delhi', 'goa':'Goa', 'gujarat': 'Gujarat',\n",
    "       'haryana':'Haryana','himachal-pradesh':'Himachal Pradesh', 'jammu-&-kashmir':'Jammu & Kashmir', 'jharkhand':'Jharkhand',\n",
    "       'karnataka':'Karnataka', 'kerala':'Kerala', 'ladakh':'Ladakh', 'lakshadweep':'Lakshadweep', 'madhya-pradesh':'Madhya Pradesh',\n",
    "       'maharashtra':'Maharashtra', 'manipur':'Manipur', 'meghalaya':'Meghalaya', 'mizoram':'Mizoram', 'nagaland':'Nagaland',\n",
    "       'odisha':'Odisha', 'puducherry':'Puducherry', 'punjab':'Punjab', 'rajasthan':'Rajasthan', 'sikkim':'Sikkim',\n",
    "       'tamil-nadu': 'Tamil Nadu', 'telangana':'Telangana', 'tripura':'Tripura', 'uttar-pradesh':'Uttar Pradesh',\n",
    "       'uttarakhand':'Uttarakhand', 'west-bengal':'West Bengal'})\n",
    "\n"
   ]
  },
  {
   "cell_type": "code",
   "execution_count": 357,
   "metadata": {},
   "outputs": [
    {
     "name": "stderr",
     "output_type": "stream",
     "text": [
      "c:\\Users\\USER\\Anaconda3\\lib\\site-packages\\pandas\\io\\sql.py:762: UserWarning:\n",
      "\n",
      "pandas only support SQLAlchemy connectable(engine/connection) ordatabase string URI or sqlite3 DBAPI2 connectionother DBAPI2 objects are not tested, please consider using SQLAlchemy\n",
      "\n"
     ]
    },
    {
     "name": "stdout",
     "output_type": "stream",
     "text": [
      "  country                      state  year quarter  \\\n",
      "0   india  andaman-&-nicobar-islands  2018      Q1   \n",
      "1   india  andaman-&-nicobar-islands  2018      Q1   \n",
      "2   india  andaman-&-nicobar-islands  2018      Q1   \n",
      "3   india  andaman-&-nicobar-islands  2018      Q2   \n",
      "4   india  andaman-&-nicobar-islands  2018      Q2   \n",
      "\n",
      "                       district_name  transaction_count  total_amount  \n",
      "0  north and middle andaman district                442        931663  \n",
      "1             south andaman district               5688      12560249  \n",
      "2                  nicobars district                528       1139848  \n",
      "3  north and middle andaman district                825       1317863  \n",
      "4             south andaman district               9395      23948235  \n"
     ]
    }
   ],
   "source": [
    "# Define the SQL query to retrieve data from the \"Top_India_2022_District\" table\n",
    "query = \"SELECT * FROM map_transaction\"\n",
    "\n",
    "# Execute the SQL query and store the result in a Pandas dataframe\n",
    "map_transaction = pd.read_sql(query, cnx)\n",
    "\n",
    "# Print the first 5 rows of the dataframe\n",
    "print(map_transaction.head())\n",
    "\n"
   ]
  },
  {
   "cell_type": "code",
   "execution_count": 358,
   "metadata": {},
   "outputs": [],
   "source": [
    "map_transaction['state'] = map_transaction['state'].replace({'andaman-&-nicobar-islands': 'Andaman & Nicobar','andhra-pradesh':'Andhra Pradesh', 'arunachal-pradesh':'Arunachal Pradesh',\n",
    "       'assam':'Assam', 'bihar':'Bihar', 'chandigarh':'Chandigarh', 'chhattisgarh':'Chhattisgarh',\n",
    "       'dadra-&-nagar-haveli-&-daman-&-diu':'Dadra and Nagar Haveli and Daman and Diu', 'delhi': 'Delhi', 'goa':'Goa', 'gujarat': 'Gujarat',\n",
    "       'haryana':'Haryana','himachal-pradesh':'Himachal Pradesh', 'jammu-&-kashmir':'Jammu & Kashmir', 'jharkhand':'Jharkhand',\n",
    "       'karnataka':'Karnataka', 'kerala':'Kerala', 'ladakh':'Ladakh', 'lakshadweep':'Lakshadweep', 'madhya-pradesh':'Madhya Pradesh',\n",
    "       'maharashtra':'Maharashtra', 'manipur':'Manipur', 'meghalaya':'Meghalaya', 'mizoram':'Mizoram', 'nagaland':'Nagaland',\n",
    "       'odisha':'Odisha', 'puducherry':'Puducherry', 'punjab':'Punjab', 'rajasthan':'Rajasthan', 'sikkim':'Sikkim',\n",
    "       'tamil-nadu': 'Tamil Nadu', 'telangana':'Telangana', 'tripura':'Tripura', 'uttar-pradesh':'Uttar Pradesh',\n",
    "       'uttarakhand':'Uttarakhand', 'west-bengal':'West Bengal'})"
   ]
  },
  {
   "cell_type": "code",
   "execution_count": 359,
   "metadata": {},
   "outputs": [
    {
     "name": "stdout",
     "output_type": "stream",
     "text": [
      "  country                      state  year entity_type quarter  \\\n",
      "0   india  andaman-&-nicobar-islands  2018    district      Q1   \n",
      "1   india  andaman-&-nicobar-islands  2018    district      Q1   \n",
      "2   india  andaman-&-nicobar-islands  2018    district      Q1   \n",
      "3   india  andaman-&-nicobar-islands  2018     pincode      Q1   \n",
      "4   india  andaman-&-nicobar-islands  2018     pincode      Q1   \n",
      "\n",
      "           district&pincode  transaction_count  total_amount  \n",
      "0             south andaman               5688      12560249  \n",
      "1                  nicobars                528       1139848  \n",
      "2  north and middle andaman                442        931663  \n",
      "3                    744101               1622       2769297  \n",
      "4                    744103               1223       2238041  \n"
     ]
    },
    {
     "name": "stderr",
     "output_type": "stream",
     "text": [
      "c:\\Users\\USER\\Anaconda3\\lib\\site-packages\\pandas\\io\\sql.py:762: UserWarning:\n",
      "\n",
      "pandas only support SQLAlchemy connectable(engine/connection) ordatabase string URI or sqlite3 DBAPI2 connectionother DBAPI2 objects are not tested, please consider using SQLAlchemy\n",
      "\n"
     ]
    }
   ],
   "source": [
    "# Define the SQL query to retrieve data from the \"Top_India_2022_District\" table\n",
    "query = \"SELECT * FROM top_transaction\"\n",
    "\n",
    "# Execute the SQL query and store the result in a Pandas dataframe\n",
    "top_transaction = pd.read_sql(query, cnx)\n",
    "\n",
    "# Print the first 5 rows of the dataframe\n",
    "print(top_transaction.head())"
   ]
  },
  {
   "cell_type": "code",
   "execution_count": 360,
   "metadata": {},
   "outputs": [],
   "source": [
    "top_transaction['state'] = map_transaction['state'].replace({'andaman-&-nicobar-islands': 'Andaman & Nicobar','andhra-pradesh':'Andhra Pradesh', 'arunachal-pradesh':'Arunachal Pradesh',\n",
    "       'assam':'Assam', 'bihar':'Bihar', 'chandigarh':'Chandigarh', 'chhattisgarh':'Chhattisgarh',\n",
    "       'dadra-&-nagar-haveli-&-daman-&-diu':'Dadra and Nagar Haveli and Daman and Diu', 'delhi': 'Delhi', 'goa':'Goa', 'gujarat': 'Gujarat',\n",
    "       'haryana':'Haryana','himachal-pradesh':'Himachal Pradesh', 'jammu-&-kashmir':'Jammu & Kashmir', 'jharkhand':'Jharkhand',\n",
    "       'karnataka':'Karnataka', 'kerala':'Kerala', 'ladakh':'Ladakh', 'lakshadweep':'Lakshadweep', 'madhya-pradesh':'Madhya Pradesh',\n",
    "       'maharashtra':'Maharashtra', 'manipur':'Manipur', 'meghalaya':'Meghalaya', 'mizoram':'Mizoram', 'nagaland':'Nagaland',\n",
    "       'odisha':'Odisha', 'puducherry':'Puducherry', 'punjab':'Punjab', 'rajasthan':'Rajasthan', 'sikkim':'Sikkim',\n",
    "       'tamil-nadu': 'Tamil Nadu', 'telangana':'Telangana', 'tripura':'Tripura', 'uttar-pradesh':'Uttar Pradesh',\n",
    "       'uttarakhand':'Uttarakhand', 'west-bengal':'West Bengal'})"
   ]
  },
  {
   "cell_type": "code",
   "execution_count": 361,
   "metadata": {},
   "outputs": [
    {
     "name": "stdout",
     "output_type": "stream",
     "text": [
      "  country                      state  year quarter  registered_users  \\\n",
      "0   india  andaman-&-nicobar-islands  2018      Q1              6740   \n",
      "1   india  andaman-&-nicobar-islands  2018      Q1              6740   \n",
      "2   india  andaman-&-nicobar-islands  2018      Q2              9405   \n",
      "3   india  andaman-&-nicobar-islands  2018      Q2              9405   \n",
      "4   india  andaman-&-nicobar-islands  2018      Q3             12149   \n",
      "\n",
      "   apps_opened  \n",
      "0            0  \n",
      "1            0  \n",
      "2            0  \n",
      "3            0  \n",
      "4            0  \n"
     ]
    },
    {
     "name": "stderr",
     "output_type": "stream",
     "text": [
      "c:\\Users\\USER\\Anaconda3\\lib\\site-packages\\pandas\\io\\sql.py:762: UserWarning:\n",
      "\n",
      "pandas only support SQLAlchemy connectable(engine/connection) ordatabase string URI or sqlite3 DBAPI2 connectionother DBAPI2 objects are not tested, please consider using SQLAlchemy\n",
      "\n"
     ]
    }
   ],
   "source": [
    "# Define the SQL query to retrieve data from the \"Top_India_2022_District\" table\n",
    "query = \"SELECT * FROM aggregate_user\"\n",
    "\n",
    "# Execute the SQL query and store the result in a Pandas dataframe\n",
    "aggregate_user = pd.read_sql(query, cnx)\n",
    "\n",
    "# Print the first 5 rows of the dataframe\n",
    "print(aggregate_user.head())"
   ]
  },
  {
   "cell_type": "code",
   "execution_count": 362,
   "metadata": {},
   "outputs": [],
   "source": [
    "aggregate_user['state'] = aggregate_user['state'].replace({'andaman-&-nicobar-islands': 'Andaman & Nicobar','andhra-pradesh':'Andhra Pradesh', 'arunachal-pradesh':'Arunachal Pradesh',\n",
    "       'assam':'Assam', 'bihar':'Bihar', 'chandigarh':'Chandigarh', 'chhattisgarh':'Chhattisgarh',\n",
    "       'dadra-&-nagar-haveli-&-daman-&-diu':'Dadra and Nagar Haveli and Daman and Diu', 'delhi': 'Delhi', 'goa':'Goa', 'gujarat': 'Gujarat',\n",
    "       'haryana':'Haryana','himachal-pradesh':'Himachal Pradesh', 'jammu-&-kashmir':'Jammu & Kashmir', 'jharkhand':'Jharkhand',\n",
    "       'karnataka':'Karnataka', 'kerala':'Kerala', 'ladakh':'Ladakh', 'lakshadweep':'Lakshadweep', 'madhya-pradesh':'Madhya Pradesh',\n",
    "       'maharashtra':'Maharashtra', 'manipur':'Manipur', 'meghalaya':'Meghalaya', 'mizoram':'Mizoram', 'nagaland':'Nagaland',\n",
    "       'odisha':'Odisha', 'puducherry':'Puducherry', 'punjab':'Punjab', 'rajasthan':'Rajasthan', 'sikkim':'Sikkim',\n",
    "       'tamil-nadu': 'Tamil Nadu', 'telangana':'Telangana', 'tripura':'Tripura', 'uttar-pradesh':'Uttar Pradesh',\n",
    "       'uttarakhand':'Uttarakhand', 'west-bengal':'West Bengal'})"
   ]
  },
  {
   "cell_type": "code",
   "execution_count": 363,
   "metadata": {},
   "outputs": [
    {
     "name": "stderr",
     "output_type": "stream",
     "text": [
      "c:\\Users\\USER\\Anaconda3\\lib\\site-packages\\pandas\\io\\sql.py:762: UserWarning:\n",
      "\n",
      "pandas only support SQLAlchemy connectable(engine/connection) ordatabase string URI or sqlite3 DBAPI2 connectionother DBAPI2 objects are not tested, please consider using SQLAlchemy\n",
      "\n"
     ]
    },
    {
     "name": "stdout",
     "output_type": "stream",
     "text": [
      "  country                      state  year quarter  \\\n",
      "0   india  andaman-&-nicobar-islands  2018      Q1   \n",
      "1   india  andaman-&-nicobar-islands  2018      Q1   \n",
      "2   india  andaman-&-nicobar-islands  2018      Q1   \n",
      "3   india  andaman-&-nicobar-islands  2018      Q2   \n",
      "4   india  andaman-&-nicobar-islands  2018      Q2   \n",
      "\n",
      "                       district_name  registered_users  apps_opened  \n",
      "0  north and middle andaman district               632            0  \n",
      "1             south andaman district              5846            0  \n",
      "2                  nicobars district               262            0  \n",
      "3  north and middle andaman district               911            0  \n",
      "4             south andaman district              8143            0  \n"
     ]
    }
   ],
   "source": [
    "# Define the SQL query to retrieve data from the \"Top_India_2022_District\" table\n",
    "query = \"SELECT * FROM map_user\"\n",
    "\n",
    "# Execute the SQL query and store the result in a Pandas dataframe\n",
    "map_user = pd.read_sql(query, cnx)\n",
    "\n",
    "# Print the first 5 rows of the dataframe\n",
    "print(map_user.head())"
   ]
  },
  {
   "cell_type": "code",
   "execution_count": 364,
   "metadata": {},
   "outputs": [],
   "source": [
    "map_user['state'] = map_user['state'].replace({'andaman-&-nicobar-islands': 'Andaman & Nicobar','andhra-pradesh':'Andhra Pradesh', 'arunachal-pradesh':'Arunachal Pradesh',\n",
    "       'assam':'Assam', 'bihar':'Bihar', 'chandigarh':'Chandigarh', 'chhattisgarh':'Chhattisgarh',\n",
    "       'dadra-&-nagar-haveli-&-daman-&-diu':'Dadra and Nagar Haveli and Daman and Diu', 'delhi': 'Delhi', 'goa':'Goa', 'gujarat': 'Gujarat',\n",
    "       'haryana':'Haryana','himachal-pradesh':'Himachal Pradesh', 'jammu-&-kashmir':'Jammu & Kashmir', 'jharkhand':'Jharkhand',\n",
    "       'karnataka':'Karnataka', 'kerala':'Kerala', 'ladakh':'Ladakh', 'lakshadweep':'Lakshadweep', 'madhya-pradesh':'Madhya Pradesh',\n",
    "       'maharashtra':'Maharashtra', 'manipur':'Manipur', 'meghalaya':'Meghalaya', 'mizoram':'Mizoram', 'nagaland':'Nagaland',\n",
    "       'odisha':'Odisha', 'puducherry':'Puducherry', 'punjab':'Punjab', 'rajasthan':'Rajasthan', 'sikkim':'Sikkim',\n",
    "       'tamil-nadu': 'Tamil Nadu', 'telangana':'Telangana', 'tripura':'Tripura', 'uttar-pradesh':'Uttar Pradesh',\n",
    "       'uttarakhand':'Uttarakhand', 'west-bengal':'West Bengal'})"
   ]
  },
  {
   "cell_type": "code",
   "execution_count": 365,
   "metadata": {},
   "outputs": [
    {
     "name": "stdout",
     "output_type": "stream",
     "text": [
      "  country                      state  year entity_type quarter  \\\n",
      "0   india  andaman-&-nicobar-islands  2018    district      Q1   \n",
      "1   india  andaman-&-nicobar-islands  2018    district      Q1   \n",
      "2   india  andaman-&-nicobar-islands  2018    district      Q1   \n",
      "3   india  andaman-&-nicobar-islands  2018     pincode      Q1   \n",
      "4   india  andaman-&-nicobar-islands  2018     pincode      Q1   \n",
      "\n",
      "               district&pin  registered_users  \n",
      "0             south andaman              5846  \n",
      "1  north and middle andaman               632  \n",
      "2                  nicobars               262  \n",
      "3                    744103              1608  \n",
      "4                    744101              1108  \n"
     ]
    },
    {
     "name": "stderr",
     "output_type": "stream",
     "text": [
      "c:\\Users\\USER\\Anaconda3\\lib\\site-packages\\pandas\\io\\sql.py:762: UserWarning:\n",
      "\n",
      "pandas only support SQLAlchemy connectable(engine/connection) ordatabase string URI or sqlite3 DBAPI2 connectionother DBAPI2 objects are not tested, please consider using SQLAlchemy\n",
      "\n"
     ]
    }
   ],
   "source": [
    "# Define the SQL query to retrieve data from the \"Top_India_2022_District\" table\n",
    "query = \"SELECT * FROM top_user\"\n",
    "\n",
    "# Execute the SQL query and store the result in a Pandas dataframe\n",
    "top_user = pd.read_sql(query, cnx)\n",
    "\n",
    "# Print the first 5 rows of the dataframe\n",
    "print(top_user.head())"
   ]
  },
  {
   "cell_type": "code",
   "execution_count": 366,
   "metadata": {},
   "outputs": [],
   "source": [
    "top_user['state'] = top_user['state'].replace({'andaman-&-nicobar-islands': 'Andaman & Nicobar','andhra-pradesh':'Andhra Pradesh', 'arunachal-pradesh':'Arunachal Pradesh',\n",
    "       'assam':'Assam', 'bihar':'Bihar', 'chandigarh':'Chandigarh', 'chhattisgarh':'Chhattisgarh',\n",
    "       'dadra-&-nagar-haveli-&-daman-&-diu':'Dadra and Nagar Haveli and Daman and Diu', 'delhi': 'Delhi', 'goa':'Goa', 'gujarat': 'Gujarat',\n",
    "       'haryana':'Haryana','himachal-pradesh':'Himachal Pradesh', 'jammu-&-kashmir':'Jammu & Kashmir', 'jharkhand':'Jharkhand',\n",
    "       'karnataka':'Karnataka', 'kerala':'Kerala', 'ladakh':'Ladakh', 'lakshadweep':'Lakshadweep', 'madhya-pradesh':'Madhya Pradesh',\n",
    "       'maharashtra':'Maharashtra', 'manipur':'Manipur', 'meghalaya':'Meghalaya', 'mizoram':'Mizoram', 'nagaland':'Nagaland',\n",
    "       'odisha':'Odisha', 'puducherry':'Puducherry', 'punjab':'Punjab', 'rajasthan':'Rajasthan', 'sikkim':'Sikkim',\n",
    "       'tamil-nadu': 'Tamil Nadu', 'telangana':'Telangana', 'tripura':'Tripura', 'uttar-pradesh':'Uttar Pradesh',\n",
    "       'uttarakhand':'Uttarakhand', 'west-bengal':'West Bengal'})"
   ]
  },
  {
   "cell_type": "code",
   "execution_count": 367,
   "metadata": {},
   "outputs": [],
   "source": [
    "def user_agg(year,quarter):\n",
    "    return aggregate_user[(aggregate_user['year'] == year) & (aggregate_user['quarter'] == quarter)]"
   ]
  },
  {
   "cell_type": "code",
   "execution_count": 368,
   "metadata": {},
   "outputs": [],
   "source": [
    "def user_map(year,quarter):\n",
    "    return map_user[(map_user['year'] == year) & (map_user['quarter'] == quarter)]"
   ]
  },
  {
   "cell_type": "code",
   "execution_count": 369,
   "metadata": {},
   "outputs": [],
   "source": [
    "def user_top(year,quarter):\n",
    "    return top_user[(top_user['year'] == year) & (top_user['quarter'] == quarter)]"
   ]
  },
  {
   "cell_type": "code",
   "execution_count": 370,
   "metadata": {},
   "outputs": [],
   "source": [
    "def transaction_agg(year,quarter):\n",
    "    return aggregate_transaction[(aggregate_transaction['year'] == year) & (aggregate_transaction['quarter'] == quarter)]"
   ]
  },
  {
   "cell_type": "code",
   "execution_count": 371,
   "metadata": {},
   "outputs": [],
   "source": [
    "def transaction_map(year,quarter):\n",
    "    return map_transaction[(map_transaction['year'] == year) & (map_transaction['quarter'] == quarter)]"
   ]
  },
  {
   "cell_type": "code",
   "execution_count": 372,
   "metadata": {},
   "outputs": [],
   "source": [
    "def transaction_top(year,quarter):\n",
    "    return top_transaction[(top_transaction['year'] == year) & (top_transaction['quarter'] == quarter)]"
   ]
  },
  {
   "cell_type": "code",
   "execution_count": 373,
   "metadata": {},
   "outputs": [],
   "source": [
    "def state_map_transaction(state,year,quarter):\n",
    "    return map_transaction[(map_transaction['state'] == state) & (map_transaction['year'] == year) & (map_transaction['quarter'] == quarter)  ]"
   ]
  },
  {
   "cell_type": "code",
   "execution_count": 374,
   "metadata": {},
   "outputs": [],
   "source": [
    "def state_map_user(state,year,quarter):\n",
    "    return map_user[(map_user['state'] == state)&(map_user['year'] == year) & (map_user['quarter'] == quarter)]"
   ]
  },
  {
   "cell_type": "code",
   "execution_count": 375,
   "metadata": {},
   "outputs": [],
   "source": [
    "def display_dashboard():\n",
    "  # sets the padding around the content in the app to zero\n",
    "  padding = 0\n",
    "  # is a method from the Streamlit library that allows the user to set various page-level options for the app\n",
    "  st.set_page_config(page_title=\"PhonePe Pulse\", layout=\"wide\", page_icon=\"₹\")\n",
    "  # setting page title\n",
    "\n",
    "  with st.sidebar:\n",
    "    \n",
    "    selected = option_menu(\n",
    "    menu_title = \"Welcome to PhonePe Pulse Dashboard\",  \n",
    "    options = ['India state-wise Data','India district-wise Data'],\n",
    "    default_index=0\n",
    "    )\n",
    "    # getting the inputs from user\n",
    "  if selected == 'India state-wise Data':\n",
    "    YEAR = ['2018','2019','2020','2021','2022']\n",
    "    year = st.sidebar.selectbox(\"Select a year:\",YEAR)\n",
    "    QUARTER = ['Q1','Q2','Q3','Q4']\n",
    "    quarter = st.sidebar.selectbox(\"Select Quarter:\",QUARTER)\n",
    "\n",
    "  # with st.sidebar:\n",
    "    selected = option_menu(\n",
    "        menu_title = \"Geo Visualization\",\n",
    "        options = ['Transaction','User'],\n",
    "        icons = ['wallet','people'],\n",
    "        menu_icon = 'geo-alt',\n",
    "        default_index=0\n",
    "      )\n",
    "\n",
    "    if selected == \"Transaction\":\n",
    "      with st.container():\n",
    "        maping = transaction_map(int(year),quarter)\n",
    "        india_map = maping[['state', 'total_amount','transaction_count']].groupby(['state']).sum().reset_index()\n",
    "      \n",
    "        fig = px.choropleth(india_map,\n",
    "                        geojson=\"https://gist.githubusercontent.com/jbrobst/56c13bbbf9d97d187fea01ca62ea5112/raw/e388c4cae20aa53cb5090210a42ebb9b765c0a36/india_states.geojson\",\n",
    "                        featureidkey='properties.ST_NM',\n",
    "                        locations='state',\n",
    "                        color='total_amount',\n",
    "                        hover_data=['state','transaction_count'],\n",
    "                        projection=\"robinson\",\n",
    "                        color_continuous_scale='YlGnBu')\n",
    "        fig.update_geos(fitbounds = 'locations',visible = False )\n",
    "        fig.update_layout(margin={\"r\":0,\"t\":0,\"l\":0,\"b\":0})\n",
    "      \n",
    "        # Display the map in the Streamlit app\n",
    "        st.plotly_chart(fig,theme=\"streamlit\",use_container_width=True)\n",
    "        \n",
    "      col1, col2, col3 = st.columns([1,1,1])\n",
    "      dataframe = transaction_agg(int(year),quarter)\n",
    "      india_agg = dataframe[['transaction_type','transaction_count','total_amount']].groupby(['transaction_type']).sum().sort_values(by='total_amount',ascending=False).reset_index()\n",
    "      col1.subheader('Categories')\n",
    "      col1.dataframe(india_agg)\n",
    "      \n",
    "      sun = transaction_top(int(year),quarter)\n",
    "      india_top = sun[['entity_type','district&pincode','total_amount','transaction_count']].groupby(['entity_type','district&pincode']).sum().sort_values(by='total_amount',ascending=False).reset_index() \n",
    "      districts = india_top[india_top['entity_type'].str.contains('district')]\n",
    "      top_districts = districts.head(10)\n",
    "      pincodes = india_top[~india_top['entity_type'].str.contains('district')]\n",
    "      top_pincodes = pincodes.head(10)\n",
    "      top_rows = pd.concat([top_districts, top_pincodes])\n",
    "      fig = px.sunburst(top_rows, path=['entity_type','district&pincode'], values='total_amount',\n",
    "                    color='total_amount',color_continuous_scale='YlGnBu')\n",
    "\n",
    "\n",
    "      col2.subheader(\"Top 10 Districts & Pincode\")\n",
    "      col2.plotly_chart(fig)\n",
    "\n",
    "      india_state = sun[['state','total_amount']].groupby(['state']).sum().sort_values(by='total_amount',ascending=False).reset_index()\n",
    "      sun_state = pd.DataFrame(india_state.head(10))\n",
    "      fig_state = px.sunburst(sun_state, path=['state'], values='total_amount',\n",
    "                    color='total_amount',color_continuous_scale='YlGnBu')\n",
    "      col3.subheader(\"Top 10 states\")\n",
    "      col3.plotly_chart(fig_state)\n",
    "    \n",
    "\n",
    "    if selected == \"User\":\n",
    "      with st.container():\n",
    "        maping = user_map(int(year),quarter)\n",
    "        india_map = maping[['state', 'registered_users','apps_opened']].groupby(['state']).sum().reset_index()\n",
    "      \n",
    "        fig = px.choropleth(india_map,\n",
    "                        geojson=\"https://gist.githubusercontent.com/jbrobst/56c13bbbf9d97d187fea01ca62ea5112/raw/e388c4cae20aa53cb5090210a42ebb9b765c0a36/india_states.geojson\",\n",
    "                        featureidkey='properties.ST_NM',\n",
    "                        locations='state',\n",
    "                        color='registered_users',\n",
    "                        hover_data=['state','apps_opened'],\n",
    "                        projection=\"robinson\",\n",
    "                        color_continuous_scale='YlGnBu')\n",
    "        fig.update_geos(fitbounds = 'locations',visible = False )\n",
    "        fig.update_layout(margin={\"r\":0,\"t\":0,\"l\":0,\"b\":0})\n",
    "      \n",
    "        # Display the map in the Streamlit app\n",
    "        st.plotly_chart(fig,theme=\"streamlit\",use_container_width=True)\n",
    "      \n",
    "\n",
    "\n",
    "      col1, col2, col3 = st.columns([1,1,1])\n",
    "      dataframe = user_agg(2018,'Q1')\n",
    "      india_agg = dataframe[['state','registered_users']].groupby(['state']).sum().sort_values(by='registered_users',ascending=False).reset_index()\n",
    "      col1.subheader('Users')\n",
    "      col1.dataframe(india_agg)\n",
    "      \n",
    "      sun = user_top(int(year),quarter)\n",
    "      india_top = sun[['entity_type','district&pin','registered_users']].groupby(['entity_type','district&pin']).sum().sort_values(by='registered_users',ascending=False).reset_index() \n",
    "      districts = india_top[india_top['entity_type'].str.contains('district')]\n",
    "      top_districts = districts.head(10)\n",
    "      pincodes = india_top[~india_top['entity_type'].str.contains('district')]\n",
    "      top_pincodes = pincodes.head(10)\n",
    "      top_rows = pd.concat([top_districts, top_pincodes])\n",
    "      fig = px.sunburst(top_rows, path=['entity_type','district&pin'], values='registered_users',\n",
    "                    color='registered_users',color_continuous_scale='YlGnBu')\n",
    "\n",
    "\n",
    "      col2.subheader(\"Top 10 Districts & Pincode\")\n",
    "      col2.plotly_chart(fig)\n",
    "\n",
    "      india_state = sun[['state','registered_users']].groupby(['state']).sum().sort_values(by='registered_users',ascending=False).reset_index()\n",
    "      sun_state = pd.DataFrame(india_state.head(10))\n",
    "      fig_state = px.sunburst(sun_state, path=['state'], values='registered_users',\n",
    "                    color='registered_users',color_continuous_scale='YlGnBu')\n",
    "      col3.subheader(\"Top 10 states\")\n",
    "      col3.plotly_chart(fig_state)\n",
    "\n",
    "  if selected == 'India district-wise Data':\n",
    "    \n",
    "    STATE = ['Andaman & Nicobar','Andhra Pradesh', 'Arunachal Pradesh',\n",
    "       'Assam', 'Bihar', 'Chandigarh', 'Chhattisgarh',\n",
    "       'Dadra and Nagar Haveli and Daman and Diu', 'Delhi', 'Goa', 'Gujarat',\n",
    "       'Haryana','Himachal Pradesh', 'Jammu & Kashmir', 'Jharkhand',\n",
    "       'Karnataka', 'Kerala', 'Ladakh', 'Lakshadweep','Madhya Pradesh',\n",
    "       'Maharashtra', 'Manipur', 'Meghalaya', 'Mizoram', 'Nagaland',\n",
    "       'Odisha', 'Puducherry', 'Punjab', 'Rajasthan', 'Sikkim',\n",
    "        'Tamil Nadu', 'Telangana', 'Tripura', 'Uttar Pradesh',\n",
    "       'Uttarakhand','West Bengal'\n",
    "       ]\n",
    "    state = st.sidebar.selectbox(\"Select a state:\",STATE)\n",
    "    YEAR = ['2018','2019','2020','2021','2022']\n",
    "    year = st.sidebar.selectbox(\"Select a year:\",YEAR)\n",
    "    QUARTER = ['Q1','Q2','Q3','Q4']\n",
    "    quarter = st.sidebar.selectbox(\"Select Quarter:\",QUARTER)\n",
    "\n",
    "    selected = option_menu(\n",
    "        menu_title = \"Geo Visualization\",\n",
    "        options = ['Transaction','User'],\n",
    "        icons = ['wallet','people'],\n",
    "        menu_icon = 'geo-alt',\n",
    "        default_index=0\n",
    "      )\n",
    "\n",
    "    if selected == 'Transaction':\n",
    "      with st.container():\n",
    "        data = state_map_transaction(state,int(year),quarter)\n",
    "        state_map = data[['state', 'total_amount','transaction_count']].groupby(['state']).sum().reset_index()\n",
    "        fig = px.choropleth(state_map,\n",
    "                          geojson=\"https://gist.githubusercontent.com/jbrobst/56c13bbbf9d97d187fea01ca62ea5112/raw/e388c4cae20aa53cb5090210a42ebb9b765c0a36/india_states.geojson\",\n",
    "                          featureidkey='properties.ST_NM',\n",
    "                          locations='state',\n",
    "                          color='total_amount',\n",
    "                          hover_data=['state','transaction_count'],\n",
    "                          projection=\"robinson\",\n",
    "                          color_continuous_scale='YlGnBu')\n",
    "        fig.update_geos(fitbounds = 'locations',visible = False )\n",
    "        fig.update_layout(margin={\"r\":0,\"t\":0,\"l\":0,\"b\":0})\n",
    "        st.plotly_chart(fig,theme=\"streamlit\",use_container_width=True)\n",
    "\n",
    "      data = state_map_transaction(state,int(year),quarter)\n",
    "      data = data.sort_values(by='total_amount',ascending=False).reset_index(drop=True)\n",
    "\n",
    "      st.dataframe(data)\n",
    "\n",
    "    if selected == 'User':\n",
    "      with st.container():\n",
    "        data = state_map_user(state,int(year),quarter)\n",
    "        state_map = data[['state','registered_users','apps_opened']].groupby(['state']).sum().reset_index()\n",
    "        fig = px.choropleth(state_map,\n",
    "                          geojson=\"https://gist.githubusercontent.com/jbrobst/56c13bbbf9d97d187fea01ca62ea5112/raw/e388c4cae20aa53cb5090210a42ebb9b765c0a36/india_states.geojson\",\n",
    "                          featureidkey='properties.ST_NM',\n",
    "                          locations='state',\n",
    "                          color='registered_users',\n",
    "                          hover_data=['state','apps_opened'],\n",
    "                          projection=\"robinson\",\n",
    "                          color_continuous_scale='YlGnBu')\n",
    "        fig.update_geos(fitbounds = 'locations',visible = False )\n",
    "        fig.update_layout(margin={\"r\":0,\"t\":0,\"l\":0,\"b\":0})\n",
    "        st.plotly_chart(fig,theme=\"streamlit\",use_container_width=True)\n",
    "\n",
    "      data = state_map_user(state,int(year),quarter)\n",
    "      data = data.sort_values(by='registered_users',ascending=False).reset_index(drop=True)\n",
    "\n",
    "      st.dataframe(data)\n",
    "\n",
    "\n",
    "      \n",
    "  expander = st.sidebar.expander(\"About Pulse\")\n",
    "  expander.write(\n",
    "        \"\"\"\n",
    "    The Indian digital payments story has truly captured the world's imagination. From the largest towns to the remotest villages, there is a payments revolution being driven by the penetration of mobile phones and data.\n",
    "\n",
    "    When PhonePe started 5 years back, we were constantly looking for definitive data sources on digital payments in India. Some of the questions we were seeking answers to were - How are consumers truly using digital payments? What are the top cases? Are kiranas across Tier 2 and 3 getting a facelift with the penetration of QR codes?\n",
    "    This year as we became India's largest digital payments platform with 46% UPI market share, we decided to demystify the what, why and how of digital payments in India.\n",
    "\n",
    "    This year, as we crossed 2000 Cr. transactions and 30 Crore registered users, we thought as India's largest digital payments platform with 46% UPI market share, we have a ring-side view of how India sends, spends, manages and grows its money. So it was time to demystify and share the what, why and how of digital payments in India.\n",
    "\n",
    "    PhonePe Pulse is your window to the world of how India transacts with interesting trends, deep insights and in-depth analysis based on our data put together by the PhonePe team.\n",
    "    \"\"\"\n",
    "    )\n",
    "    \n",
    "display_dashboard()\n"
   ]
  }
 ],
 "metadata": {
  "kernelspec": {
   "display_name": "Python 3 (ipykernel)",
   "language": "python",
   "name": "python3"
  },
  "language_info": {
   "codemirror_mode": {
    "name": "ipython",
    "version": 3
   },
   "file_extension": ".py",
   "mimetype": "text/x-python",
   "name": "python",
   "nbconvert_exporter": "python",
   "pygments_lexer": "ipython3",
   "version": "3.9.13"
  },
  "vscode": {
   "interpreter": {
    "hash": "4c84b0f6af3b91181ac42c1e4857f90b45abdad43bc5d11c0c8c194282206e7d"
   }
  }
 },
 "nbformat": 4,
 "nbformat_minor": 2
}
